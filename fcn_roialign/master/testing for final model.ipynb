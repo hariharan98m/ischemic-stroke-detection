{
 "cells": [
  {
   "cell_type": "code",
   "execution_count": 1,
   "metadata": {
    "pycharm": {
     "is_executing": false
    }
   },
   "outputs": [],
   "source": [
    "import numpy as np\n",
    "from dataloader import SISSDataset, Rescale, RandomCrop, RandomRotate, ToMultiFloatMaskValues, Normalize, FinalRoIAlignExperiment\n",
    "from torchvision import transforms, models, datasets\n",
    "from pathlib import Path\n",
    "import matplotlib.pyplot as plt\n",
    "from matplotlib import colors\n",
    "import skimage\n",
    "import torch\n",
    "from torchvision.ops import RoIAlign, MultiScaleRoIAlign"
   ]
  },
  {
   "cell_type": "code",
   "execution_count": 2,
   "metadata": {
    "pycharm": {
     "is_executing": false,
     "name": "#%%\n"
    }
   },
   "outputs": [],
   "source": [
    "def plot_img(img, label = True):\n",
    "    if label:\n",
    "        cmap = colors.ListedColormap(['white', 'red'])\n",
    "        bounds=[0,0.5,1]\n",
    "        norm = colors.BoundaryNorm(bounds, cmap.N)\n",
    "        plt.imshow(img, interpolation='nearest', origin='lower',\n",
    "                            cmap=cmap, norm=norm)\n",
    "    else:\n",
    "        plt.imshow(img, cmap='gray')\n",
    "    \n",
    "    plt.show()\n",
    "    \n",
    "siss = SISSDataset(num_slices = 153,\n",
    "            num_scans= 2,\n",
    "            root_dir = Path.cwd().parents[0],\n",
    "            transform = transforms.Compose([\n",
    "                            Rescale(224),\n",
    "                            Normalize(),\n",
    "                            ToMultiFloatMaskValues()\n",
    "                        ])        \n",
    "       )\n",
    "track_sample = siss[91]\n",
    "\n",
    "scans, label224, label28 = track_sample\n",
    "label224 = label224"
   ]
  },
  {
   "cell_type": "markdown",
   "metadata": {
    "pycharm": {
     "name": "#%% md\n"
    }
   },
   "source": [
    "Feature sizes"
   ]
  },
  {
   "cell_type": "code",
   "execution_count": 3,
   "metadata": {
    "pycharm": {
     "is_executing": false,
     "name": "#%%\n"
    }
   },
   "outputs": [],
   "source": [
    "fe_size = 224//8   # (224 to 28) is 224/8 = 28\n",
    "ctr = np.zeros((fe_size * fe_size, 2))\n",
    "sub_sample_ratio = 224//28 # it is the height and width stride of the anchor centres. \n",
    "# we want to visit each and every point of the feature map and create a set of anchors.\n",
    "# for our case, 28x28 points on the original map will be the anchor centres.\n",
    "\n",
    "# Aspect Ratio of an anchor box is basically width/height. aspect ratio will always be 1 (square box) \n",
    "# Scales are bigger as the anchor box is from the base box (i.e. 512 x 512 box is twice as big as 256 x 256).\n",
    "# for scale, its better to go at 8 times. \n",
    "\n",
    "import math\n",
    "ar = 1.0\n",
    "scale = 56/sub_sample_ratio  # to ensure that we get 25 on 112, 12.5 on 56 and 6.25 on 28\n",
    "\n",
    "# every 1x1 pixel on the 28x28 map corresponds to 8x8 on the original image. need to get the center of every 8x8 region.\n",
    "width_b = scale * math.sqrt(ar) * sub_sample_ratio \n",
    "height_b = scale * sub_sample_ratio / math.sqrt(ar)\n",
    "\n",
    "# Generate all the center points for all the boxes.\n",
    "ctr = np.zeros((fe_size * fe_size, 2))\n",
    "ctr_x = np.arange(sub_sample_ratio, (fe_size+1) * sub_sample_ratio, sub_sample_ratio)\n",
    "ctr_y = ctr_x.copy()\n",
    "\n",
    "index = 0\n",
    "for x in range(len(ctr_x)):\n",
    "    for y in range(len(ctr_y)):\n",
    "        ctr[index, 0] = ctr_x[x] - sub_sample_ratio/2\n",
    "        ctr[index, 1] = ctr_y[y] - sub_sample_ratio/2\n",
    "        index +=1\n",
    "        \n",
    "anchors = np.zeros((fe_size * fe_size, 4))\n",
    "anchors[:, 0] = ctr[:, 0] - height_b / 2.\n",
    "anchors[:, 1] = ctr[:, 1] - width_b / 2.\n",
    "anchors[:, 2] = ctr[:, 0] + height_b / 2.\n",
    "anchors[:, 3] = ctr[:, 1] + width_b / 2."
   ]
  },
  {
   "cell_type": "code",
   "execution_count": 4,
   "metadata": {
    "pycharm": {
     "is_executing": false,
     "name": "#%%\n"
    }
   },
   "outputs": [
    {
     "data": {
      "text/plain": [
       "484"
      ]
     },
     "execution_count": 4,
     "metadata": {},
     "output_type": "execute_result"
    }
   ],
   "source": [
    "valid_anchor_boxes_indices = np.where(\n",
    "        (anchors[:, 0] >= 0) &\n",
    "        (anchors[:, 1] >= 0) &\n",
    "        (anchors[:, 2] <= 224) &\n",
    "        (anchors[:, 3] <= 224)\n",
    "    )[0]\n",
    "valid_anchor_boxes = anchors[valid_anchor_boxes_indices]\n",
    "# Out of 784 anchor boxes, choosing only the set of valid anchor boxes\n",
    "len(valid_anchor_boxes_indices)\n"
   ]
  },
  {
   "cell_type": "code",
   "execution_count": 5,
   "metadata": {
    "pycharm": {
     "is_executing": false,
     "name": "#%%\n"
    }
   },
   "outputs": [],
   "source": [
    "# Select 10 shots overall.\n",
    "max_boxes = 10\n",
    "mask = label224[0].numpy()"
   ]
  },
  {
   "cell_type": "markdown",
   "metadata": {
    "pycharm": {
     "name": "#%% md\n"
    }
   },
   "source": [
    "\n",
    "If there is some lesion on the mask, that is, if  "
   ]
  },
  {
   "cell_type": "code",
   "execution_count": 6,
   "metadata": {
    "pycharm": {
     "is_executing": false,
     "name": "#%%\n"
    },
    "scrolled": true
   },
   "outputs": [
    {
     "data": {
      "text/plain": [
       "True"
      ]
     },
     "execution_count": 6,
     "metadata": {},
     "output_type": "execute_result"
    }
   ],
   "source": [
    "len(np.unique(mask)) != 1 "
   ]
  },
  {
   "cell_type": "code",
   "execution_count": 7,
   "metadata": {
    "pycharm": {
     "is_executing": false,
     "name": "#%%\n"
    }
   },
   "outputs": [
    {
     "data": {
      "image/png": "[encoded data removed]",
      "text/plain": [
       "<Figure size 432x288 with 1 Axes>"
      ]
     },
     "metadata": {
      "needs_background": "light"
     },
     "output_type": "display_data"
    }
   ],
   "source": [
    "mask[10:20, 30:40] = 1.0\n",
    "plt.imshow(mask)\n",
    "masked_labels = skimage.measure.label(mask)\n",
    "\n",
    "# instances are encoded as different colors\n",
    "obj_ids = np.unique(masked_labels)\n",
    "# first id is the background, so remove it\n",
    "obj_ids = obj_ids[1:]\n",
    "\n",
    "# split the color-encoded mask into a set\n",
    "# of binary masks\n",
    "masks = masked_labels == obj_ids[:, None, None]\n",
    "\n",
    "# get bounding box coordinates for each mask\n",
    "num_objs = len(obj_ids)\n",
    "boxes = []\n",
    "for i in range(num_objs):\n",
    "    pos = np.where(masks[i])\n",
    "    xmin = np.min(pos[0])\n",
    "    xmax = np.max(pos[0])\n",
    "    ymin = np.min(pos[1])\n",
    "    ymax = np.max(pos[1])\n",
    "    boxes.append([xmin, ymin, xmax, ymax])\n"
   ]
  },
  {
   "cell_type": "markdown",
   "metadata": {
    "pycharm": {
     "is_executing": false,
     "name": "#%% md\n"
    }
   },
   "source": [
    "Testing the Box Masks"
   ]
  },
  {
   "cell_type": "code",
   "execution_count": 8,
   "metadata": {
    "pycharm": {
     "is_executing": false,
     "name": "#%%\n"
    }
   },
   "outputs": [
    {
     "data": {
      "image/png": "[encoded data removed]",
      "text/plain": [
       "<Figure size 432x288 with 1 Axes>"
      ]
     },
     "metadata": {
      "needs_background": "light"
     },
     "output_type": "display_data"
    },
    {
     "data": {
      "image/png": "[encoded data removed]",
      "text/plain": [
       "<Figure size 432x288 with 1 Axes>"
      ]
     },
     "metadata": {
      "needs_background": "light"
     },
     "output_type": "display_data"
    }
   ],
   "source": [
    "# make a color map of fixed colors\n",
    "# tell imshow about color map so that only set colors are used\n",
    "x1, y1, x2, y2 = boxes[0]\n",
    "plot_img(mask[x1:x2+1, y1:y2+1])\n",
    "\n",
    "x1, y1, x2, y2 = boxes[1]\n",
    "plot_img(mask[x1:x2+1, y1:y2+1])\n"
   ]
  },
  {
   "cell_type": "code",
   "execution_count": 9,
   "metadata": {
    "pycharm": {
     "is_executing": false,
     "name": "#%%\n"
    }
   },
   "outputs": [],
   "source": [
    "#only choose the top 10 boxes from this.\n",
    "ious = np.empty((len(valid_anchor_boxes), len(boxes)), dtype=np.float32)\n",
    "ious.fill(0)\n",
    "for num1, i in enumerate(valid_anchor_boxes):\n",
    "    xa1, ya1, xa2, ya2 = i  \n",
    "    anchor_area = (ya2 - ya1) * (xa2 - xa1)\n",
    "    for num2, j in enumerate(boxes):\n",
    "        xb1, yb1, xb2, yb2 = j\n",
    "        box_area = (yb2- yb1) * (xb2 - xb1)\n",
    "        inter_x1 = max([xb1, xa1])\n",
    "        inter_y1 = max([yb1, ya1])\n",
    "        inter_x2 = min([xb2, xa2])\n",
    "        inter_y2 = min([yb2, ya2])\n",
    "        if (inter_x1 < inter_x2) and (inter_y1 < inter_y2):\n",
    "            iter_area = (inter_y2 - inter_y1 +1) * \\\n",
    "(inter_x2 - inter_x1 +1)\n",
    "            iou = iter_area / \\\n",
    "(anchor_area+ box_area - iter_area)            \n",
    "        else:\n",
    "            iou = 0.\n",
    "            \n",
    "        ious[num1, num2] = iou\n",
    "\n",
    "# choose the highest valued bounding boxes\n",
    "patches_for_objs = max_boxes //num_objs\n",
    "maxarg_ious = np.argsort(ious, axis=0)[::-1]\n",
    "\n",
    "selected_ious_args = []\n",
    "for obj in range(num_objs):\n",
    "    obj_max_indices = maxarg_ious[:patches_for_objs, obj].tolist()\n",
    "    maxarg_ious = np.delete(maxarg_ious, obj_max_indices, axis=0)\n",
    "    selected_ious_args.extend(obj_max_indices)\n",
    "    \n",
    "# Return, the selected anchor boxes coords and the class_labels\n",
    "sel_anchors = valid_anchor_boxes[selected_ious_args]\n",
    "sel_anchors\n",
    "class_labels = [1.0] * max_boxes\n"
   ]
  },
  {
   "cell_type": "markdown",
   "metadata": {
    "pycharm": {
     "is_executing": false,
     "name": "#%% md\n"
    }
   },
   "source": [
    "Else if there is no lesion on the image, first, get the MRI brain x1,y1,x2,y2. \n",
    "Now proceed to get the other areas."
   ]
  },
  {
   "cell_type": "code",
   "execution_count": 10,
   "metadata": {
    "pycharm": {
     "is_executing": false,
     "name": "#%%\n"
    }
   },
   "outputs": [],
   "source": [
    "# box_for_scan_area\n",
    "x1_scan, y1_scan, x2_scan, y2_scan = [50, 50, 200, 200]\n",
    "\n",
    "# filter valid bounding boxes \n",
    "valid_anchor_boxes_indices = np.where(\n",
    "        (valid_anchor_boxes[:, 0] >= x1_scan) &\n",
    "        (valid_anchor_boxes[:, 1] >= y1_scan) &\n",
    "        (valid_anchor_boxes[:, 2] <= x2_scan) &\n",
    "        (valid_anchor_boxes[:, 3] <= y2_scan)\n",
    "    )[0]\n",
    "\n",
    "valid_anchor_boxes[np.random.choice(valid_anchor_boxes_indices, max_boxes)]\n",
    "class_labels = [0.0] * max_boxes"
   ]
  },
  {
   "cell_type": "code",
   "execution_count": 11,
   "metadata": {
    "pycharm": {
     "is_executing": false,
     "name": "#%%\n"
    }
   },
   "outputs": [
    {
     "data": {
      "text/plain": [
       "array([[  0.,   0.,  56.,  56.],\n",
       "       [  8.,  24.,  64.,  80.],\n",
       "       [  8.,   8.,  64.,  64.],\n",
       "       [  8.,  16.,  64.,  72.],\n",
       "       [  8.,   0.,  64.,  56.],\n",
       "       [ 48.,  88., 104., 144.],\n",
       "       [ 48.,  96., 104., 152.],\n",
       "       [ 48., 104., 104., 160.],\n",
       "       [ 40.,  80.,  96., 136.],\n",
       "       [ 40.,  88.,  96., 144.]])"
      ]
     },
     "execution_count": 11,
     "metadata": {},
     "output_type": "execute_result"
    }
   ],
   "source": [
    "sel_anchors"
   ]
  },
  {
   "cell_type": "code",
   "execution_count": 12,
   "metadata": {
    "pycharm": {
     "is_executing": false,
     "name": "#%%\n"
    }
   },
   "outputs": [
    {
     "data": {
      "image/png": "[encoded data removed]",
      "text/plain": [
       "<Figure size 432x288 with 1 Axes>"
      ]
     },
     "metadata": {
      "needs_background": "light"
     },
     "output_type": "display_data"
    },
    {
     "data": {
      "image/png": "[encoded data removed]",
      "text/plain": [
       "<Figure size 432x288 with 1 Axes>"
      ]
     },
     "metadata": {
      "needs_background": "light"
     },
     "output_type": "display_data"
    },
    {
     "data": {
      "image/png": "[encoded data removed]",
      "text/plain": [
       "<Figure size 432x288 with 1 Axes>"
      ]
     },
     "metadata": {
      "needs_background": "light"
     },
     "output_type": "display_data"
    },
    {
     "data": {
      "image/png": "[encoded data removed]",
      "text/plain": [
       "<Figure size 432x288 with 1 Axes>"
      ]
     },
     "metadata": {
      "needs_background": "light"
     },
     "output_type": "display_data"
    },
    {
     "data": {
      "image/png": "[encoded data removed]",
      "text/plain": [
       "<Figure size 432x288 with 1 Axes>"
      ]
     },
     "metadata": {
      "needs_background": "light"
     },
     "output_type": "display_data"
    },
    {
     "data": {
      "image/png": "[encoded data removed]",
      "text/plain": [
       "<Figure size 432x288 with 1 Axes>"
      ]
     },
     "metadata": {
      "needs_background": "light"
     },
     "output_type": "display_data"
    },
    {
     "data": {
      "image/png": "[encoded data removed]",
      "text/plain": [
       "<Figure size 432x288 with 1 Axes>"
      ]
     },
     "metadata": {
      "needs_background": "light"
     },
     "output_type": "display_data"
    },
    {
     "data": {
      "image/png": "[encoded data removed]",
      "text/plain": [
       "<Figure size 432x288 with 1 Axes>"
      ]
     },
     "metadata": {
      "needs_background": "light"
     },
     "output_type": "display_data"
    },
    {
     "data": {
      "image/png": "[encoded data removed]",
      "text/plain": [
       "<Figure size 432x288 with 1 Axes>"
      ]
     },
     "metadata": {
      "needs_background": "light"
     },
     "output_type": "display_data"
    },
    {
     "data": {
      "image/png": "[encoded data removed]",
      "text/plain": [
       "<Figure size 432x288 with 1 Axes>"
      ]
     },
     "metadata": {
      "needs_background": "light"
     },
     "output_type": "display_data"
    }
   ],
   "source": [
    "for anchor in sel_anchors:    \n",
    "    x1, y1, x2, y2 = anchor.astype(int)\n",
    "    plot_img(mask[x1:x2+1, y1:y2+1])"
   ]
  },
  {
   "cell_type": "code",
   "execution_count": 13,
   "metadata": {
    "pycharm": {
     "is_executing": false,
     "name": "#%%\n"
    }
   },
   "outputs": [
    {
     "data": {
      "text/plain": [
       "[0, 25, 23, 24, 22, 143, 144, 145, 120, 121]"
      ]
     },
     "execution_count": 13,
     "metadata": {},
     "output_type": "execute_result"
    }
   ],
   "source": [
    "selected_ious_args"
   ]
  },
  {
   "cell_type": "code",
   "execution_count": 14,
   "metadata": {
    "pycharm": {
     "is_executing": false,
     "name": "#%%\n"
    }
   },
   "outputs": [],
   "source": [
    "sorted_ious = np.sort(ious, axis=0)[::-1]\n",
    "sorted_indices = np.argsort(ious, axis=0)[::-1]"
   ]
  },
  {
   "cell_type": "code",
   "execution_count": 15,
   "metadata": {
    "pycharm": {
     "is_executing": false,
     "name": "#%%\n"
    }
   },
   "outputs": [
    {
     "data": {
      "text/plain": [
       "torch.Size([4, 224, 224])"
      ]
     },
     "execution_count": 15,
     "metadata": {},
     "output_type": "execute_result"
    }
   ],
   "source": [
    "scans.shape"
   ]
  },
  {
   "cell_type": "code",
   "execution_count": 16,
   "metadata": {
    "pycharm": {
     "is_executing": false,
     "name": "#%%\n"
    }
   },
   "outputs": [],
   "source": [
    "cornerVal = scans[0, 0, 0]\n",
    "pos = np.where(scans[0, :, :]!= cornerVal)\n",
    "xmin = np.min(pos[0])\n",
    "xmax = np.max(pos[0])\n",
    "ymin = np.min(pos[1])\n",
    "ymax = np.max(pos[1])"
   ]
  },
  {
   "cell_type": "code",
   "execution_count": 17,
   "metadata": {
    "pycharm": {
     "is_executing": false,
     "name": "#%%\n"
    }
   },
   "outputs": [
    {
     "data": {
      "image/png": "[encoded data removed]",
      "text/plain": [
       "<Figure size 432x288 with 1 Axes>"
      ]
     },
     "metadata": {
      "needs_background": "light"
     },
     "output_type": "display_data"
    }
   ],
   "source": [
    "plot_img(scans[0, xmin:xmax, ymin:ymax], label= False)"
   ]
  },
  {
   "cell_type": "code",
   "execution_count": 18,
   "metadata": {
    "pycharm": {
     "is_executing": false,
     "name": "#%%\n"
    }
   },
   "outputs": [],
   "source": [
    "x1, y1, x2, y2 = sel_anchors[0]"
   ]
  },
  {
   "cell_type": "code",
   "execution_count": 19,
   "metadata": {
    "pycharm": {
     "is_executing": false,
     "name": "#%%\n"
    }
   },
   "outputs": [],
   "source": [
    "def list_to_batched(batch_size, anchors):\n",
    "    batch_indices = np.zeros((batch_size, 1))\n",
    "    out = np.concatenate((batch_indices, anchors), axis=-1).astype(np.float32)\n",
    "    return torch.from_numpy(out)\n",
    "\n",
    "rois = list_to_batched(max_boxes, sel_anchors)\n",
    "\n",
    "rois = [torch.from_numpy(sel_anchors.astype(np.float32))]\n",
    "\n",
    "mask = label224.unsqueeze(dim=0)\n",
    "roi_align = RoIAlign((60, 28), spatial_scale=1.0, sampling_ratio=2)"
   ]
  },
  {
   "cell_type": "code",
   "execution_count": 20,
   "metadata": {
    "pycharm": {
     "is_executing": false,
     "name": "#%%\n"
    }
   },
   "outputs": [],
   "source": [
    "import numpy as np\n",
    "from dataloader import SISSDataset, Rescale, RandomCrop, RandomRotate, ToMultiFloatMaskValues, Normalize, FinalRoIAlignExperiment\n",
    "from torchvision import transforms, models, datasets\n",
    "from pathlib import Path\n",
    "import matplotlib.pyplot as plt\n",
    "from matplotlib import colors\n",
    "import skimage\n",
    "import torch\n",
    "from torchvision.ops import RoIAlign, MultiScaleRoIAlign\n",
    "\n",
    "scale = Rescale(int(1.05 * 230))\n",
    "crop = RandomCrop(224)\n",
    "rotate = RandomRotate(20.0)\n",
    "norm = Normalize()\n",
    "exp5_final_roialign = FinalRoIAlignExperiment() \n",
    "tupled_float_regress_masks = ToMultiFloatMaskValues() \n",
    "\n",
    "composed = transforms.Compose([scale,\n",
    "                               rotate,\n",
    "                               crop,\n",
    "                               norm])\n",
    "\n",
    "composed_for_valset = transforms.Compose([\n",
    "    Rescale(224),\n",
    "    norm,\n",
    "    tupled_float_regress_masks\n",
    "])\n"
   ]
  },
  {
   "cell_type": "code",
   "execution_count": 21,
   "metadata": {
    "pycharm": {
     "is_executing": false,
     "name": "#%%\n"
    }
   },
   "outputs": [],
   "source": [
    "# train dataset\n",
    "train_scans = 2\n",
    "val_scans = 1\n",
    "batch_size = 4\n",
    "train_dataset = SISSDataset(num_slices=153,\n",
    "                            num_scans=train_scans,\n",
    "                            root_dir=Path.cwd().parents[0],\n",
    "                            transform=composed)\n",
    "\n",
    "# val dataset\n",
    "val_dataset = SISSDataset(num_slices=153,\n",
    "                          num_scans=val_scans,\n",
    "                          root_dir=Path.cwd().parents[0],\n",
    "                          transform=composed_for_valset,\n",
    "                          train=False\n",
    "                          )\n",
    "\n",
    "datasets = {\n",
    "    'train': train_dataset,\n",
    "    'val': val_dataset\n",
    "}\n",
    "\n",
    "# pdb.set_trace()\n",
    "\n",
    "train_dataloader = torch.utils.data.DataLoader(datasets['train'], batch_size=batch_size, shuffle=True,\n",
    "                                               num_workers=10)\n",
    "val_dataloader = torch.utils.data.DataLoader(datasets['val'], batch_size=10, shuffle=True, num_workers=10)\n"
   ]
  },
  {
   "cell_type": "code",
   "execution_count": 22,
   "metadata": {
    "pycharm": {
     "is_executing": true,
     "name": "#%%\n"
    }
   },
   "outputs": [],
   "source": [
    "def show_single_img(image, label):\n",
    "    \"\"\"Show image\"\"\"\n",
    "    cmap = 'gray'\n",
    "    if label:\n",
    "        cmap = 'binary'\n",
    "    plt.imshow(image, cmap = cmap)\n",
    "\n",
    "\n",
    "def viz_sample(sample):\n",
    "    fig = plt.figure(figsize=(20, 5))\n",
    "    # fig.suptitle('Lesion Properties')\n",
    "\n",
    "    for slice_, scan in enumerate(['DWI', 'FLAIR', 'T1', 'T2', 'Lesion Mask']):\n",
    "        ax = plt.subplot(1, 5, slice_ + 1)\n",
    "        show_single_img(sample[:, :, slice_], scan == 'label')\n",
    "        plt.tight_layout()\n",
    "        ax.set_title(scan)\n",
    "        ax.axis('off')\n",
    "    plt.show()"
   ]
  },
  {
   "cell_type": "code",
   "execution_count": 23,
   "metadata": {
    "pycharm": {
     "is_executing": false,
     "name": "#%%    \n"
    }
   },
   "outputs": [],
   "source": [
    "idx = np.random.randint(0, 153* 2)\n",
    "# for i in range(2*153):\n",
    "#     viz_sample(train_dataset[i])"
   ]
  },
  {
   "cell_type": "code",
   "execution_count": 24,
   "metadata": {
    "pycharm": {
     "is_executing": false,
     "name": "#%%\n"
    }
   },
   "outputs": [],
   "source": [
    "def get_valid_anchor_boxes():\n",
    "\n",
    "    fe_size = 224 // 8  # (224 to 28) is 224/8 = 28\n",
    "    ctr = np.zeros((fe_size * fe_size, 2))\n",
    "    sub_sample_ratio = 224 // 28  # it is the height and width stride of the anchor centres.\n",
    "    # we want to visit each and every point of the feature map and create a set of anchors.\n",
    "    # for our case, 28x28 points on the original map will be the anchor centres.\n",
    "\n",
    "    # Aspect Ratio of an anchor box is basically width/height. aspect ratio will always be 1 (square box)\n",
    "    # Scales are bigger as the anchor box is from the base box (i.e. 512 x 512 box is twice as big as 256 x 256).\n",
    "    # for scale, its better to go at 8 times.\n",
    "\n",
    "    import math\n",
    "    ar = 1.0\n",
    "    scale = 56 / sub_sample_ratio  # to ensure that we get 25 on 112, 12.5 on 56 and 6.25 on 28\n",
    "\n",
    "    # every 1x1 pixel on the 28x28 map corresponds to 8x8 on the original image. need to get the center of every 8x8 region.\n",
    "    width_b = scale * math.sqrt(ar) * sub_sample_ratio\n",
    "    height_b = scale * sub_sample_ratio / math.sqrt(ar)\n",
    "\n",
    "    # Generate all the center points for all the boxes.\n",
    "    ctr = np.zeros((fe_size * fe_size, 2))\n",
    "    ctr_x = np.arange(sub_sample_ratio, (fe_size + 1) * sub_sample_ratio, sub_sample_ratio)\n",
    "    ctr_y = ctr_x.copy()\n",
    "\n",
    "    index = 0\n",
    "    for x in range(len(ctr_x)):\n",
    "        for y in range(len(ctr_y)):\n",
    "            ctr[index, 0] = ctr_x[x] - sub_sample_ratio / 2\n",
    "            ctr[index, 1] = ctr_y[y] - sub_sample_ratio / 2\n",
    "            index += 1\n",
    "\n",
    "    anchors = np.zeros((fe_size * fe_size, 4))\n",
    "    anchors[:, 0] = ctr[:, 0] - height_b / 2.\n",
    "    anchors[:, 1] = ctr[:, 1] - width_b / 2.\n",
    "    anchors[:, 2] = ctr[:, 0] + height_b / 2.\n",
    "    anchors[:, 3] = ctr[:, 1] + width_b / 2.\n",
    "    # %%\n",
    "    valid_anchor_boxes_indices = np.where(\n",
    "        (anchors[:, 0] >= 0) &\n",
    "        (anchors[:, 1] >= 0) &\n",
    "        (anchors[:, 2] <= 224) &\n",
    "        (anchors[:, 3] <= 224)\n",
    "    )[0]\n",
    "    valid_anchor_boxes = anchors[valid_anchor_boxes_indices]\n",
    "\n",
    "    return valid_anchor_boxes.astype(np.float32)"
   ]
  },
  {
   "cell_type": "code",
   "execution_count": 25,
   "metadata": {
    "pycharm": {
     "is_executing": false,
     "name": "#%%\n"
    }
   },
   "outputs": [
    {
     "data": {
      "image/png": "[encoded data removed]",
      "text/plain": [
       "<Figure size 1440x360 with 5 Axes>"
      ]
     },
     "metadata": {
      "needs_background": "light"
     },
     "output_type": "display_data"
    }
   ],
   "source": [
    "viz_sample(train_dataset[0])"
   ]
  },
  {
   "cell_type": "code",
   "execution_count": 26,
   "metadata": {
    "pycharm": {
     "is_executing": false,
     "name": "#%%\n"
    }
   },
   "outputs": [],
   "source": [
    "valid_anchor_boxes = get_valid_anchor_boxes()"
   ]
  },
  {
   "cell_type": "code",
   "execution_count": 27,
   "metadata": {
    "pycharm": {
     "is_executing": false,
     "name": "#%%\n"
    }
   },
   "outputs": [],
   "source": [
    "sample = train_dataset[0]\n",
    "# scans and the labelled mask are in (4, 224, 224) and (1,224,224)\n",
    "scans, label224 = sample[:, :, :-1], sample[:, :, -1]\n",
    "\n",
    "# consistent datatypes\n",
    "scans, label224 = scans.astype(np.float32), label224.astype(np.bool).astype(np.float32)\n",
    "\n",
    "# get the data objs into an object of shape (4, h, w) and (1, h, w)\n",
    "scans, label224 = scans.transpose((2, 0, 1)), label224[np.newaxis,...]"
   ]
  },
  {
   "cell_type": "code",
   "execution_count": 28,
   "metadata": {
    "pycharm": {
     "is_executing": false,
     "name": "#%%\n"
    }
   },
   "outputs": [],
   "source": [
    "def get_max_ious_boxes_labels(scans, label224):\n",
    "    max_boxes = 10\n",
    "    mask = label224\n",
    "\n",
    "    # If there is some lesion on the mask, that is, if\n",
    "    if len(np.unique(mask)) != 1:\n",
    "        masked_labels = skimage.measure.label(mask)\n",
    "\n",
    "        # instances are encoded as different colors\n",
    "        obj_ids = np.unique(masked_labels)\n",
    "        # first id is the background, so remove it\n",
    "        obj_ids = obj_ids[1:]\n",
    "\n",
    "        # split the color-encoded mask into a set\n",
    "        # of binary masks\n",
    "        masks = masked_labels == obj_ids[:, None, None]\n",
    "\n",
    "        # get bounding box coordinates for each mask\n",
    "        num_objs = len(obj_ids)\n",
    "        boxes = []\n",
    "        for i in range(num_objs):\n",
    "            pos = np.where(masks[i])\n",
    "            xmin = np.min(pos[0])\n",
    "            xmax = np.max(pos[0])\n",
    "            ymin = np.min(pos[1])\n",
    "            ymax = np.max(pos[1])\n",
    "            boxes.append([xmin, ymin, xmax, ymax])\n",
    "\n",
    "        # only choose the top 10 boxes from this.\n",
    "        ious = np.empty((len(valid_anchor_boxes), len(boxes)), dtype=np.float32)\n",
    "        ious.fill(0)\n",
    "        for num1, i in enumerate(valid_anchor_boxes):\n",
    "            xa1, ya1, xa2, ya2 = i\n",
    "            anchor_area = (ya2 - ya1) * (xa2 - xa1)\n",
    "            for num2, j in enumerate(boxes):\n",
    "                xb1, yb1, xb2, yb2 = j\n",
    "                box_area = (yb2 - yb1) * (xb2 - xb1)\n",
    "                inter_x1 = max([xb1, xa1])\n",
    "                inter_y1 = max([yb1, ya1])\n",
    "                inter_x2 = min([xb2, xa2])\n",
    "                inter_y2 = min([yb2, ya2])\n",
    "                if (inter_x1 < inter_x2) and (inter_y1 < inter_y2):\n",
    "                    iter_area = (inter_y2 - inter_y1 + 1) * \\\n",
    "                                (inter_x2 - inter_x1 + 1)\n",
    "                    iou = iter_area / \\\n",
    "                          (anchor_area + box_area - iter_area)\n",
    "                else:\n",
    "                    iou = 0.\n",
    "\n",
    "                ious[num1, num2] = iou\n",
    "\n",
    "        # choose the highest valued bounding boxes\n",
    "        patches_for_objs = max_boxes // num_objs\n",
    "        maxarg_ious = np.argsort(ious, axis=0)[::-1]\n",
    "\n",
    "        selected_ious_args = []\n",
    "        for obj in range(num_objs):\n",
    "            obj_max_indices = maxarg_ious[:patches_for_objs, obj].tolist()\n",
    "            maxarg_ious = np.delete(maxarg_ious, obj_max_indices, axis=0)\n",
    "            selected_ious_args.extend(obj_max_indices)\n",
    "\n",
    "        # Return, the selected anchor boxes coords and the class_labels\n",
    "        sel_anchors = valid_anchor_boxes[selected_ious_args]\n",
    "        # and the all ones class labels\n",
    "        class_labels = [1.0] * max_boxes\n",
    "\n",
    "        return sel_anchors, class_labels\n",
    "\n",
    "    # so there's no lesion at all in any part of the mask\n",
    "    else:\n",
    "        # box_for_scan_area\n",
    "        cornerVal = scans[0, 0, 0]\n",
    "        pos = np.where(scans[0, :, :] != cornerVal)\n",
    "        if len(pos[0]):\n",
    "            x1_scan = np.min(pos[0])\n",
    "            x2_scan = np.max(pos[0])\n",
    "            y1_scan = np.min(pos[1])\n",
    "            y2_scan = np.max(pos[1])\n",
    "        else:\n",
    "            x1_scan, y1_scan, x2_scan, y2_scan = [0, 0, 223, 223]\n",
    "\n",
    "        # filter valid bounding boxes\n",
    "        valid_anchor_boxes_indices = np.where(\n",
    "            (valid_anchor_boxes[:, 0] >= x1_scan) &\n",
    "            (valid_anchor_boxes[:, 1] >= y1_scan) &\n",
    "            (valid_anchor_boxes[:, 2] <= x2_scan) &\n",
    "            (valid_anchor_boxes[:, 3] <= y2_scan)\n",
    "        )[0]\n",
    "\n",
    "        sel_anchors = valid_anchor_boxes[np.random.choice(valid_anchor_boxes_indices, max_boxes)]\n",
    "        class_labels = [0.0] * max_boxes\n",
    "\n",
    "        return sel_anchors, class_labels"
   ]
  },
  {
   "cell_type": "code",
   "execution_count": 29,
   "metadata": {
    "pycharm": {
     "is_executing": false,
     "name": "#%%\n"
    }
   },
   "outputs": [],
   "source": [
    "anchor_boxes, class_labels = get_max_ious_boxes_labels(scans, label224)"
   ]
  },
  {
   "cell_type": "code",
   "execution_count": 30,
   "metadata": {
    "scrolled": true
   },
   "outputs": [
    {
     "data": {
      "text/plain": [
       "[0.0, 0.0, 0.0, 0.0, 0.0, 0.0, 0.0, 0.0, 0.0, 0.0]"
      ]
     },
     "execution_count": 30,
     "metadata": {},
     "output_type": "execute_result"
    }
   ],
   "source": [
    "class_labels"
   ]
  },
  {
   "cell_type": "code",
   "execution_count": 34,
   "metadata": {},
   "outputs": [
    {
     "data": {
      "image/png": "[encoded data removed]",
      "text/plain": [
       "<Figure size 432x288 with 1 Axes>"
      ]
     },
     "metadata": {
      "needs_background": "light"
     },
     "output_type": "display_data"
    },
    {
     "data": {
      "image/png": "[encoded data removed]",
      "text/plain": [
       "<Figure size 432x288 with 1 Axes>"
      ]
     },
     "metadata": {
      "needs_background": "light"
     },
     "output_type": "display_data"
    },
    {
     "data": {
      "image/png": "[encoded data removed]",
      "text/plain": [
       "<Figure size 432x288 with 1 Axes>"
      ]
     },
     "metadata": {
      "needs_background": "light"
     },
     "output_type": "display_data"
    },
    {
     "data": {
      "image/png": "[encoded data removed]",
      "text/plain": [
       "<Figure size 432x288 with 1 Axes>"
      ]
     },
     "metadata": {
      "needs_background": "light"
     },
     "output_type": "display_data"
    },
    {
     "data": {
      "image/png": "[encoded data removed]",
      "text/plain": [
       "<Figure size 432x288 with 1 Axes>"
      ]
     },
     "metadata": {
      "needs_background": "light"
     },
     "output_type": "display_data"
    },
    {
     "data": {
      "image/png": "[encoded data removed]",
      "text/plain": [
       "<Figure size 432x288 with 1 Axes>"
      ]
     },
     "metadata": {
      "needs_background": "light"
     },
     "output_type": "display_data"
    },
    {
     "data": {
      "image/png": "[encoded data removed]",
      "text/plain": [
       "<Figure size 432x288 with 1 Axes>"
      ]
     },
     "metadata": {
      "needs_background": "light"
     },
     "output_type": "display_data"
    },
    {
     "data": {
      "image/png": "[encoded data removed]",
      "text/plain": [
       "<Figure size 432x288 with 1 Axes>"
      ]
     },
     "metadata": {
      "needs_background": "light"
     },
     "output_type": "display_data"
    },
    {
     "data": {
      "image/png": "[encoded data removed]",
      "text/plain": [
       "<Figure size 432x288 with 1 Axes>"
      ]
     },
     "metadata": {
      "needs_background": "light"
     },
     "output_type": "display_data"
    },
    {
     "data": {
      "image/png": "[encoded data removed]",
      "text/plain": [
       "<Figure size 432x288 with 1 Axes>"
      ]
     },
     "metadata": {
      "needs_background": "light"
     },
     "output_type": "display_data"
    }
   ],
   "source": [
    "mask = label224[0]\n",
    "for anchor in anchor_boxes:    \n",
    "    x1, y1, x2, y2 = anchor.astype(int)\n",
    "    plot_img(mask[x1:x2+1, y1:y2+1], label=True)"
   ]
  },
  {
   "cell_type": "code",
   "execution_count": 31,
   "metadata": {
    "scrolled": true
   },
   "outputs": [
    {
     "data": {
      "text/plain": [
       "array([[152.,  96., 208., 152.],\n",
       "       [ 56.,  48., 112., 104.],\n",
       "       [ 40.,  80.,  96., 136.],\n",
       "       [ 48.,  16., 104.,  72.],\n",
       "       [ 56.,  80., 112., 136.],\n",
       "       [ 96.,  64., 152., 120.],\n",
       "       [136., 136., 192., 192.],\n",
       "       [104., 160., 160., 216.],\n",
       "       [  0.,  40.,  56.,  96.],\n",
       "       [152., 160., 208., 216.]], dtype=float32)"
      ]
     },
     "execution_count": 31,
     "metadata": {},
     "output_type": "execute_result"
    }
   ],
   "source": [
    "anchor_boxes"
   ]
  },
  {
   "cell_type": "code",
   "execution_count": 32,
   "metadata": {
    "pycharm": {
     "is_executing": true,
     "name": "#%%\n"
    }
   },
   "outputs": [],
   "source": [
    "scans, label224 = torch.from_numpy(scans), torch.from_numpy(label224)"
   ]
  },
  {
   "cell_type": "code",
   "execution_count": 33,
   "metadata": {},
   "outputs": [],
   "source": [
    "cut_boxes = torch.from_numpy(anchor_boxes)"
   ]
  },
  {
   "cell_type": "code",
   "execution_count": 35,
   "metadata": {
    "pycharm": {
     "is_executing": true,
     "name": "#%%\n"
    }
   },
   "outputs": [],
   "source": [
    "scale_base_roi_align = RoIAlign((56, 56), spatial_scale=1.0, sampling_ratio=2)  # base map is of size 56x56\n",
    "scale_1_roi_align = RoIAlign((28, 28), spatial_scale=1.0, sampling_ratio=2)     # wil look as 28x28 on the 112x112 image\n",
    "scale_2_roi_align = RoIAlign((14, 14), spatial_scale=1.0, sampling_ratio=2)     # will look at 14x14 on the 56x56 image\n",
    "scale_3_roi_align = RoIAlign((7, 7), spatial_scale=1.0, sampling_ratio=2)      # will look at 7x7 on the 28x28 image"
   ]
  },
  {
   "cell_type": "code",
   "execution_count": 39,
   "metadata": {},
   "outputs": [
    {
     "data": {
      "text/plain": [
       "torch.float32"
      ]
     },
     "execution_count": 39,
     "metadata": {},
     "output_type": "execute_result"
    }
   ],
   "source": [
    "label224.unsqueeze(dim=0).dtype"
   ]
  },
  {
   "cell_type": "code",
   "execution_count": 40,
   "metadata": {},
   "outputs": [
    {
     "data": {
      "text/plain": [
       "torch.float32"
      ]
     },
     "execution_count": 40,
     "metadata": {},
     "output_type": "execute_result"
    }
   ],
   "source": [
    "cut_boxes.dtype"
   ]
  },
  {
   "cell_type": "code",
   "execution_count": 41,
   "metadata": {
    "pycharm": {
     "is_executing": false,
     "name": "#%%\n"
    }
   },
   "outputs": [],
   "source": [
    "base, scale1, scale2, scale3 = scale_base_roi_align(label224.unsqueeze(dim=0), [cut_boxes]), \\\n",
    "                               scale_1_roi_align(label224.unsqueeze(0), [cut_boxes]), \\\n",
    "                               scale_2_roi_align(label224.unsqueeze(0), [cut_boxes]), \\\n",
    "                               scale_3_roi_align(label224.unsqueeze(0), [cut_boxes])"
   ]
  },
  {
   "cell_type": "code",
   "execution_count": 64,
   "metadata": {},
   "outputs": [],
   "source": [
    "class FinalRoIAlignExperiment(object):\n",
    "\n",
    "    def __init__(self):\n",
    "        self.valid_anchor_boxes = self.get_valid_anchor_boxes().astype(np.float32)\n",
    "        # extracting RoI of size 56x56 on 224x224\n",
    "        self.scale_base_roi_align = RoIAlign((56, 56), spatial_scale=1.0, sampling_ratio=2)  # base map is of size 56x56\n",
    "        self.scale_1_roi_align = RoIAlign((28, 28), spatial_scale=1.0, sampling_ratio=2)     # wil look as 28x28 on the 112x112 image\n",
    "        self.scale_2_roi_align = RoIAlign((14, 14), spatial_scale=1.0, sampling_ratio=2)     # will look at 14x14 on the 56x56 image\n",
    "        self.scale_3_roi_align = RoIAlign((7, 7), spatial_scale=1.0, sampling_ratio=2)      # will look at 7x7 on the 28x28 image\n",
    "\n",
    "    def get_valid_anchor_boxes(self):\n",
    "\n",
    "        fe_size = 224 // 8  # (224 to 28) is 224/8 = 28\n",
    "        ctr = np.zeros((fe_size * fe_size, 2))\n",
    "        sub_sample_ratio = 224 // 28  # it is the height and width stride of the anchor centres.\n",
    "        # we want to visit each and every point of the feature map and create a set of anchors.\n",
    "        # for our case, 28x28 points on the original map will be the anchor centres.\n",
    "\n",
    "        # Aspect Ratio of an anchor box is basically width/height. aspect ratio will always be 1 (square box)\n",
    "        # Scales are bigger as the anchor box is from the base box (i.e. 512 x 512 box is twice as big as 256 x 256).\n",
    "        # for scale, its better to go at 8 times.\n",
    "\n",
    "        import math\n",
    "        ar = 1.0\n",
    "        scale = 56 / sub_sample_ratio  # to ensure that we get 25 on 112, 12.5 on 56 and 6.25 on 28\n",
    "\n",
    "        # every 1x1 pixel on the 28x28 map corresponds to 8x8 on the original image. need to get the center of every 8x8 region.\n",
    "        width_b = scale * math.sqrt(ar) * sub_sample_ratio\n",
    "        height_b = scale * sub_sample_ratio / math.sqrt(ar)\n",
    "\n",
    "        # Generate all the center points for all the boxes.\n",
    "        ctr = np.zeros((fe_size * fe_size, 2))\n",
    "        ctr_x = np.arange(sub_sample_ratio, (fe_size + 1) * sub_sample_ratio, sub_sample_ratio)\n",
    "        ctr_y = ctr_x.copy()\n",
    "\n",
    "        index = 0\n",
    "        for x in range(len(ctr_x)):\n",
    "            for y in range(len(ctr_y)):\n",
    "                ctr[index, 0] = ctr_x[x] - sub_sample_ratio / 2\n",
    "                ctr[index, 1] = ctr_y[y] - sub_sample_ratio / 2\n",
    "                index += 1\n",
    "\n",
    "        anchors = np.zeros((fe_size * fe_size, 4))\n",
    "        anchors[:, 0] = ctr[:, 0] - height_b / 2.\n",
    "        anchors[:, 1] = ctr[:, 1] - width_b / 2.\n",
    "        anchors[:, 2] = ctr[:, 0] + height_b / 2.\n",
    "        anchors[:, 3] = ctr[:, 1] + width_b / 2.\n",
    "        # %%\n",
    "        valid_anchor_boxes_indices = np.where(\n",
    "            (anchors[:, 0] >= 0) &\n",
    "            (anchors[:, 1] >= 0) &\n",
    "            (anchors[:, 2] <= 224) &\n",
    "            (anchors[:, 3] <= 224)\n",
    "        )[0]\n",
    "        valid_anchor_boxes = anchors[valid_anchor_boxes_indices]\n",
    "\n",
    "        return valid_anchor_boxes\n",
    "\n",
    "    def iou(self, box1, box2):\n",
    "        xa1, ya1, xa2, ya2 = box1\n",
    "        anchor_area = (ya2 - ya1) * (xa2 - xa1)\n",
    "        xb1, yb1, xb2, yb2 = box2\n",
    "        box_area = (yb2 - yb1) * (xb2 - xb1)\n",
    "        inter_x1 = max([xb1, xa1])\n",
    "        inter_y1 = max([yb1, ya1])\n",
    "        inter_x2 = min([xb2, xa2])\n",
    "        inter_y2 = min([yb2, ya2])\n",
    "        if (inter_x1 < inter_x2) and (inter_y1 < inter_y2):\n",
    "            iter_area = (inter_y2 - inter_y1 + 1) * \\\n",
    "                        (inter_x2 - inter_x1 + 1)\n",
    "            iou = iter_area / \\\n",
    "                  (anchor_area + box_area - iter_area)\n",
    "        else:\n",
    "            iou = 0.\n",
    "        return iou\n",
    "        \n",
    "    def get_max_ious_boxes_labels(self, scans, label224):\n",
    "        max_boxes = 10\n",
    "        mask = label224\n",
    "\n",
    "        # If there is some lesion on the mask, that is, if\n",
    "        if len(np.unique(mask)) != 1:\n",
    "            masked_labels = skimage.measure.label(mask)\n",
    "\n",
    "            # instances are encoded as different colors\n",
    "            obj_ids = np.unique(masked_labels)\n",
    "            # first id is the background, so remove it\n",
    "            obj_ids = obj_ids[1:]\n",
    "\n",
    "            # split the color-encoded mask into a set\n",
    "            # of binary masks\n",
    "            masks = masked_labels == obj_ids[:, None, None]\n",
    "\n",
    "            # get bounding box coordinates for each mask\n",
    "            num_objs = len(obj_ids)\n",
    "            boxes = []\n",
    "            for i in range(num_objs):\n",
    "                pos = np.where(masks[i])\n",
    "                xmin = np.min(pos[0])\n",
    "                xmax = np.max(pos[0])\n",
    "                ymin = np.min(pos[1])\n",
    "                ymax = np.max(pos[1])\n",
    "                boxes.append([xmin, ymin, xmax, ymax])\n",
    "\n",
    "            # only choose the top 10 boxes from this.\n",
    "            ious = np.empty((len(self.valid_anchor_boxes), len(boxes)), dtype=np.float32)\n",
    "            ious.fill(0)\n",
    "            for num1, i in enumerate(self.valid_anchor_boxes):\n",
    "                for num2, j in enumerate(boxes):\n",
    "                    ious[num1, num2] = self.iou(box1, box2)\n",
    "\n",
    "            # choose the highest valued bounding boxes\n",
    "            patches_for_objs = max_boxes // num_objs\n",
    "            maxarg_ious = np.argsort(ious, axis=0)[::-1]\n",
    "\n",
    "            selected_ious_args = []\n",
    "            for obj in range(num_objs):\n",
    "                obj_max_indices = maxarg_ious[:patches_for_objs, obj].tolist()\n",
    "                maxarg_ious = np.delete(maxarg_ious, obj_max_indices, axis=0)\n",
    "                selected_ious_args.extend(obj_max_indices)\n",
    "\n",
    "            # Return, the selected anchor boxes coords and the class_labels\n",
    "            sel_anchors = self.valid_anchor_boxes[selected_ious_args]\n",
    "            # and the all ones class labels\n",
    "            class_labels = [1.0] * max_boxes\n",
    "\n",
    "            return sel_anchors, class_labels\n",
    "\n",
    "        # so there's no lesion at all in any part of the mask\n",
    "        else:\n",
    "            # box_for_scan_area\n",
    "            cornerVal = scans[0, 0, 0]\n",
    "            pos = np.where(scans[0, :, :] != cornerVal)\n",
    "            if len(pos[0]):\n",
    "                x1_scan = np.min(pos[0])\n",
    "                x2_scan = np.max(pos[0])\n",
    "                y1_scan = np.min(pos[1])\n",
    "                y2_scan = np.max(pos[1])\n",
    "            else:\n",
    "                x1_scan, y1_scan, x2_scan, y2_scan = [0, 0, 223, 223]\n",
    "\n",
    "            # filter valid bounding boxes\n",
    "            valid_anchor_boxes_indices = np.where(\n",
    "                (valid_anchor_boxes[:, 0] >= x1_scan) &\n",
    "                (valid_anchor_boxes[:, 1] >= y1_scan) &\n",
    "                (valid_anchor_boxes[:, 2] <= x2_scan) &\n",
    "                (valid_anchor_boxes[:, 3] <= y2_scan)\n",
    "            )[0]\n",
    "\n",
    "            sel_anchors = valid_anchor_boxes[np.random.choice(valid_anchor_boxes_indices, max_boxes)]\n",
    "            class_labels = [0.0] * max_boxes\n",
    "\n",
    "            return sel_anchors, class_labels\n",
    "\n",
    "    def __call__(self, sample):\n",
    "\n",
    "        # scans and the labelled mask are in (4, 224, 224) and (1,224,224)\n",
    "        scans, label224 = sample[:, :, :-1], sample[:, :, -1]\n",
    "\n",
    "        # consistent datatypes\n",
    "        scans, label224 = scans.astype(np.float32), label224.astype(np.float32)\n",
    "\n",
    "        # get the data objs into an object of shape (4, h, w) and (1, h, w)\n",
    "        scans, label224 = scans.transpose((2, 0, 1)), label224[np.newaxis,...]\n",
    "\n",
    "        # get 10 anchor boxes formatted.\n",
    "        anchor_boxes, class_labels = self.get_max_ious_boxes_labels(scans, label224)\n",
    "\n",
    "        scans, label224 = torch.from_numpy(scans), torch.from_numpy(label224)\n",
    "\n",
    "        # image of size 224.\n",
    "        #every anchor box has a size of 56x56\n",
    "        cut_boxes = torch.from_numpy(anchor_boxes)\n",
    "        base, scale1, scale2, scale3 = self.scale_base_roi_align(label224.unsqueeze(dim=0), [cut_boxes]), \\\n",
    "                                       self.scale_1_roi_align(label224.unsqueeze(0), [cut_boxes]), \\\n",
    "                                       self.scale_2_roi_align(label224.unsqueeze(0), [cut_boxes]), \\\n",
    "                                       self.scale_3_roi_align(label224.unsqueeze(0), [cut_boxes])\n",
    "        # will return boxes of shape (batch_size, 1, h, w)\n",
    "\n",
    "        # items to return from here, are the anchor boxes for all the cuts, the class_labels, the image scan 224,\n",
    "        # the anchor cut labels of 56(base), 28 for 112, 14 for 56x56, 7 for 28x28\n",
    "\n",
    "        return cut_boxes, class_labels, scans, (base, scale1, scale2, scale3)\n",
    "\n"
   ]
  },
  {
   "cell_type": "code",
   "execution_count": null,
   "metadata": {},
   "outputs": [],
   "source": []
  },
  {
   "cell_type": "code",
   "execution_count": 65,
   "metadata": {},
   "outputs": [],
   "source": [
    "exp5 = FinalRoIAlignExperiment()"
   ]
  },
  {
   "cell_type": "code",
   "execution_count": 67,
   "metadata": {},
   "outputs": [
    {
     "data": {
      "text/plain": [
       "(array([[144., 136., 200., 192.],\n",
       "        [  0.,  80.,  56., 136.],\n",
       "        [ 40.,  40.,  96.,  96.],\n",
       "        [ 40., 160.,  96., 216.],\n",
       "        [112.,  80., 168., 136.],\n",
       "        [160.,  40., 216.,  96.],\n",
       "        [  0.,  40.,  56.,  96.],\n",
       "        [ 24.,  96.,  80., 152.],\n",
       "        [112., 120., 168., 176.],\n",
       "        [144.,  48., 200., 104.]], dtype=float32),\n",
       " [0.0, 0.0, 0.0, 0.0, 0.0, 0.0, 0.0, 0.0, 0.0, 0.0])"
      ]
     },
     "execution_count": 67,
     "metadata": {},
     "output_type": "execute_result"
    }
   ],
   "source": [
    "exp5.get_max_ious_boxes_labels(scans, label224)"
   ]
  },
  {
   "cell_type": "code",
   "execution_count": 68,
   "metadata": {},
   "outputs": [],
   "source": [
    "composed_transform = transforms.Compose([scale,\n",
    "                               rotate,\n",
    "                               crop,\n",
    "                               norm])"
   ]
  },
  {
   "cell_type": "code",
   "execution_count": 69,
   "metadata": {},
   "outputs": [],
   "source": [
    "dataset = SISSDataset(\n",
    "                      num_slices=153,\n",
    "                      num_scans=val_scans,\n",
    "                      root_dir=Path.cwd().parents[0],\n",
    "                      transform=composed_transform,\n",
    "                      train=False\n",
    "                        )"
   ]
  },
  {
   "cell_type": "code",
   "execution_count": 70,
   "metadata": {},
   "outputs": [],
   "source": [
    "sample = dataset[0]\n",
    "\n",
    "# scans and the labelled mask are in (4, 224, 224) and (1,224,224)\n",
    "scans, label224 = sample[:, :, :-1], sample[:, :, -1]\n",
    "\n",
    "# consistent datatypes\n",
    "scans, label224 = scans.astype(np.float32), label224.astype(np.float32)\n",
    "\n",
    "# get the data objs into an object of shape (4, h, w) and (1, h, w)\n",
    "scans, label224 = scans.transpose((2, 0, 1)), label224[np.newaxis,...]"
   ]
  },
  {
   "cell_type": "code",
   "execution_count": 71,
   "metadata": {},
   "outputs": [
    {
     "data": {
      "text/plain": [
       "(4, 224, 224)"
      ]
     },
     "execution_count": 71,
     "metadata": {},
     "output_type": "execute_result"
    }
   ],
   "source": [
    "scans.shape"
   ]
  },
  {
   "cell_type": "code",
   "execution_count": 72,
   "metadata": {},
   "outputs": [
    {
     "data": {
      "text/plain": [
       "(1, 224, 224)"
      ]
     },
     "execution_count": 72,
     "metadata": {},
     "output_type": "execute_result"
    }
   ],
   "source": [
    "label224.shape"
   ]
  },
  {
   "cell_type": "code",
   "execution_count": 73,
   "metadata": {},
   "outputs": [
    {
     "data": {
      "image/png": "[encoded data removed]",
      "text/plain": [
       "<Figure size 1440x360 with 5 Axes>"
      ]
     },
     "metadata": {
      "needs_background": "light"
     },
     "output_type": "display_data"
    }
   ],
   "source": [
    "viz_sample(sample)"
   ]
  },
  {
   "cell_type": "code",
   "execution_count": 75,
   "metadata": {},
   "outputs": [],
   "source": [
    "# get 10 anchor boxes formatted.\n",
    "anchor_boxes, class_labels = exp5.get_max_ious_boxes_labels(scans, label224)"
   ]
  },
  {
   "cell_type": "code",
   "execution_count": 78,
   "metadata": {},
   "outputs": [],
   "source": [
    "# image of size 224.\n",
    "#every anchor box has a size of 56x56\n",
    "cut_boxes = torch.from_numpy(anchor_boxes)\n",
    "base, scale1, scale2, scale3 = exp5.scale_base_roi_align(label224.unsqueeze(dim=0), [cut_boxes]), \\\n",
    "                               exp5.scale_1_roi_align(label224.unsqueeze(0), [cut_boxes]), \\\n",
    "                               exp5.scale_2_roi_align(label224.unsqueeze(0), [cut_boxes]), \\\n",
    "                               exp5.scale_3_roi_align(label224.unsqueeze(0), [cut_boxes])"
   ]
  },
  {
   "cell_type": "code",
   "execution_count": 94,
   "metadata": {},
   "outputs": [],
   "source": [
    "exp5 = FinalRoIAlignExperiment()\n",
    "final_transform = transforms.Compose([scale,\n",
    "                               rotate,\n",
    "                               crop,\n",
    "                               norm,\n",
    "                               exp5])\n",
    "final_dataset = SISSDataset(\n",
    "                    num_slices = 153, \n",
    "                    num_scans = val_scans,\n",
    "                    root_dir = Path.cwd().parents[0],\n",
    "                    transform = final_transform,\n",
    "                    train= False\n",
    "                )"
   ]
  }
 ],
 "metadata": {
  "kernelspec": {
   "display_name": "Python 3 (ipykernel)",
   "language": "python",
   "name": "python3"
  },
  "language_info": {
   "codemirror_mode": {
    "name": "ipython",
    "version": 3
   },
   "file_extension": ".py",
   "mimetype": "text/x-python",
   "name": "python",
   "nbconvert_exporter": "python",
   "pygments_lexer": "ipython3",
   "version": "3.9.1"
  },
  "pycharm": {
   "stem_cell": {
    "cell_type": "raw",
    "metadata": {
     "collapsed": false
    },
    "source": []
   }
  }
 },
 "nbformat": 4,
 "nbformat_minor": 4
}
