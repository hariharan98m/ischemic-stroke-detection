{
 "cells": [
  {
   "cell_type": "code",
   "execution_count": 1,
   "metadata": {
    "collapsed": true,
    "pycharm": {
     "is_executing": false
    }
   },
   "outputs": [],
   "source": [
    "import torch\n",
    "from pathlib import Path\n",
    "import matplotlib.pyplot as plt\n",
    "\n",
    "from vgg import VGGNet\n",
    "from fcn8s import FCN8s\n",
    "from dataloader import SISSDataset, ToTupleTensor, Rescale, RandomRotate, RandomCrop, Normalize, ToMultiScaleMasks, ToRoIAlignTensor, ToMultiFloatMaskValues\n",
    "from dataloader import expand_mask\n",
    "\n",
    "import torch.nn as nn\n",
    "import torch.optim as optim\n",
    "from torch.optim import lr_scheduler\n",
    "from torch.autograd import Variable\n",
    "from torch.utils.data import DataLoader\n",
    "import numpy as np\n",
    "from torchvision import transforms, utils, models, datasets\n",
    "import torch.nn.functional as F\n",
    "from train import train_model, unmold_mask, resize\n"
   ]
  },
  {
   "cell_type": "code",
   "execution_count": 2,
   "outputs": [],
   "source": [
    "vgg_model = VGGNet(freeze_max = False)\n",
    "net = FCN8s(vgg_model)\n"
   ],
   "metadata": {
    "collapsed": false,
    "pycharm": {
     "name": "#%%\n",
     "is_executing": false
    }
   }
  },
  {
   "cell_type": "code",
   "execution_count": 3,
   "outputs": [
    {
     "name": "stdout",
     "text": [
      "Configs: FCNs-Cross Entropy Loss _batch5_epoch10_RMSprop_scheduler-step50-gamma0.5_lr1e-06_momentum0_w_decay1e-05\n"
     ],
     "output_type": "stream"
    }
   ],
   "source": [
    "all_trainable_layers = [param for param in net.parameters() if param.requires_grad ]\n",
    "\n",
    "\n",
    "_class    = 2\n",
    "train_scans = 2\n",
    "batch_size = 5\n",
    "epochs     = 10\n",
    "lr         = 1e-6\n",
    "momentum   = 0\n",
    "w_decay    = 1e-5\n",
    "step_size  = 50\n",
    "gamma      = 0.5\n",
    "configs    = \"FCNs-Cross Entropy Loss _batch{}_epoch{}_RMSprop_scheduler-step{}-gamma{}_lr{}_momentum{}_w_decay{}\".format(batch_size, epochs, step_size, gamma, lr, momentum, w_decay)\n",
    "print(\"Configs:\", configs)\n",
    "\n",
    "class_weights = torch.tensor([0.1, 0.9])\n",
    "criterion = nn.CrossEntropyLoss(weight = class_weights)\n",
    "optimizer = optim.Adam(all_trainable_layers, lr=lr, weight_decay=w_decay)\n",
    "scheduler = lr_scheduler.StepLR(optimizer, step_size=step_size, gamma=gamma)  # decay LR by a factor of 0.5 every 30 epochs\n",
    "\n",
    "\n",
    "siss_dataset = SISSDataset(num_slices=154,\n",
    "                           num_scans=3,\n",
    "                           root_dir=Path.cwd().parents[0])\n",
    "\n",
    "idx = 91\n",
    "sample = siss_dataset[idx]\n",
    "\n",
    "def show_single_img(image, label):\n",
    "    \"\"\"Show image\"\"\"\n",
    "    cmap = 'gray'\n",
    "    if label:\n",
    "        cmap = 'binary'\n",
    "    plt.imshow(image, cmap = cmap)\n",
    "\n",
    "\n",
    "def viz_sample(sample):\n",
    "    fig = plt.figure(figsize=(20, 5))\n",
    "    fig.suptitle('Sample %d' % idx)\n",
    "\n",
    "    for slice_, scan in enumerate(['dwi', 'flair', 't1', 't2', 'label']):\n",
    "        ax = plt.subplot(1, 5, slice_ + 1)\n",
    "        show_single_img(sample[:, :, slice_], scan == 'label')\n",
    "        plt.tight_layout()\n",
    "        ax.set_title(scan)\n",
    "        ax.axis('off')\n",
    "\n",
    "    plt.show()\n",
    "\n",
    "# train dataloader\n",
    "scale = Rescale(int(1.5 * 230))\n",
    "crop = RandomCrop(224)\n",
    "rotate = RandomRotate(20.0)\n",
    "norm = Normalize()\n",
    "tupled_float_regress_masks = ToMultiFloatMaskValues()\n",
    "\n",
    "composed = transforms.Compose([scale,\n",
    "                               rotate,\n",
    "                               crop,\n",
    "                               norm,\n",
    "                               tupled_float_regress_masks])\n",
    "\n",
    "composed_for_valset = transforms.Compose([\n",
    "    Rescale(224),\n",
    "    norm,\n",
    "    tupled_float_regress_masks\n",
    "])\n",
    "\n",
    "\n",
    "siss = SISSDataset(num_slices = 153,\n",
    "            num_scans= 2,\n",
    "            root_dir = Path.cwd().parents[0],\n",
    "            transform = composed_for_valset        \n",
    "       )\n",
    "\n",
    "# train dataset\n",
    "train_dataset = SISSDataset(num_slices = 153,\n",
    "                            num_scans= train_scans,\n",
    "                            root_dir = Path.cwd().parents[0],\n",
    "                            transform = composed)\n",
    "\n",
    "# val dataset\n",
    "val_dataset = SISSDataset(num_slices = 153,\n",
    "                           num_scans= 1,\n",
    "                           root_dir = Path.cwd().parents[0],\n",
    "                           transform = composed_for_valset,\n",
    "                           train = False\n",
    "                          )\n",
    "\n",
    "datasets = {\n",
    "    'train': train_dataset,\n",
    "    'val': val_dataset\n",
    "}\n",
    "\n",
    "# pdb.set_trace()\n",
    "\n",
    "dataloaders = {x: torch.utils.data.DataLoader(datasets[x], batch_size=batch_size,\n",
    "                                             shuffle=True, num_workers=4)\n",
    "                for x in ['train', 'val']}\n",
    "\n",
    "dataset_sizes = {x: len(datasets[x]) for x in ['train', 'val']}\n",
    "class_names = datasets['train'].classes\n",
    "\n",
    "device = torch.device(\"cuda:0\" if torch.cuda.is_available() else \"cpu\")\n",
    "\n"
   ],
   "metadata": {
    "collapsed": false,
    "pycharm": {
     "name": "#%%\n",
     "is_executing": false
    }
   }
  },
  {
   "cell_type": "code",
   "execution_count": 4,
   "outputs": [],
   "source": [
    "def show_single_img(image, label):\n",
    "    \"\"\"Show image\"\"\"\n",
    "    cmap = 'gray'\n",
    "    if label:\n",
    "        cmap = 'binary'\n",
    "    plt.imshow(image, cmap = cmap)\n",
    "    plt.show()\n"
   ],
   "metadata": {
    "collapsed": false,
    "pycharm": {
     "name": "#%%\n",
     "is_executing": false
    }
   }
  },
  {
   "cell_type": "code",
   "execution_count": 5,
   "outputs": [],
   "source": [
    "\n",
    "def get_prob_map28(outputs28):\n",
    "    # based on argmax\n",
    "    max_prob, pred28_argmax = torch.max(outputs28, dim=1, keepdim=True)  # (batch_size, 1, 28,28)\n",
    "\n",
    "    # based on prob\n",
    "    pred28 = outputs28.data\n",
    "    pred28[:, 0, :, :] = 1 - outputs28[:, 0, :, :]\n",
    "    one_hot = F.one_hot(pred28_argmax.squeeze()).permute(0, 3, 1, 2).bool()  # (batch_size, 2 classes, 28,28)\n",
    "    pred28_prob = torch.sum(pred28 * one_hot, dim=1, keepdim=True)  # (batch_size, 1 val, 28, 28)\n",
    "\n",
    "    return pred28_prob\n"
   ],
   "metadata": {
    "collapsed": false,
    "pycharm": {
     "name": "#%%\n",
     "is_executing": false
    }
   }
  },
  {
   "cell_type": "code",
   "execution_count": 6,
   "outputs": [
    {
     "name": "stdout",
     "text": [
      "torch.Size([4, 224, 224]) torch.Size([1, 224, 224]) torch.Size([28, 28])\n"
     ],
     "output_type": "stream"
    },
    {
     "data": {
      "text/plain": "<Figure size 432x288 with 1 Axes>",
      "image/png": "[encoded data removed]"
     },
     "metadata": {
      "needs_background": "light"
     },
     "output_type": "display_data"
    },
    {
     "data": {
      "text/plain": "<Figure size 432x288 with 1 Axes>",
      "image/png": "[encoded data removed]"
     },
     "metadata": {
      "needs_background": "light"
     },
     "output_type": "display_data"
    }
   ],
   "source": [
    "track_sample = siss[91]\n",
    "\n",
    "scans, label224, label28 = track_sample\n",
    "print(scans.shape, label224.shape, label28.shape)\n",
    "print('Image 28 shrinked by bilinear')\n",
    "show_single_img(label28, label= False)\n",
    "print('Image 224 shrinked original')\n",
    "show_single_img(label224[0], label = False)\n",
    "print('Image 224 expanded from shrinked img28')\n",
    "show_single_img(expand_mask())"
   ],
   "metadata": {
    "collapsed": false,
    "pycharm": {
     "name": "#%%\n",
     "is_executing": false
    }
   }
  },
  {
   "cell_type": "code",
   "execution_count": 25,
   "outputs": [
    {
     "data": {
      "text/plain": "<Figure size 432x288 with 1 Axes>",
      "image/png": "[encoded data removed]"
     },
     "metadata": {
      "needs_background": "light"
     },
     "output_type": "display_data"
    },
    {
     "name": "stdout",
     "text": [
      "torch.Size([5, 1, 28, 28])\n"
     ],
     "output_type": "stream"
    }
   ],
   "source": [
    "model = net\n",
    "for mini_batch, (inputs, label224, label28) in enumerate(dataloaders['train']):\n",
    "    \n",
    "    outputs28 = model(inputs)  # shape of pred28 is (batch_size, 2, 28, 28)\n",
    "    \n",
    "    show_single_img(label28[0,:,:], label=False)\n",
    "    loss = F.nll_loss(outputs28, label28.squeeze(), weight=class_weights)\n",
    "    \n",
    "    torch_pred28_prob = get_prob_map28(outputs28)\n",
    "    \n",
    "    print(torch_pred28_prob.shape)\n",
    "    break"
   ],
   "metadata": {
    "collapsed": false,
    "pycharm": {
     "name": "#%%\n",
     "is_executing": false
    }
   }
  },
  {
   "cell_type": "code",
   "execution_count": 1,
   "outputs": [],
   "source": [],
   "metadata": {
    "collapsed": false,
    "pycharm": {
     "name": "#%%\n",
     "is_executing": false
    }
   }
  },
  {
   "cell_type": "code",
   "execution_count": null,
   "outputs": [],
   "source": [
    "\n"
   ],
   "metadata": {
    "collapsed": false,
    "pycharm": {
     "name": "#%%\n"
    }
   }
  }
 ],
 "metadata": {
  "language_info": {
   "codemirror_mode": {
    "name": "ipython",
    "version": 2
   },
   "file_extension": ".py",
   "mimetype": "text/x-python",
   "name": "python",
   "nbconvert_exporter": "python",
   "pygments_lexer": "ipython2",
   "version": "2.7.6"
  },
  "kernelspec": {
   "name": "python3",
   "language": "python",
   "display_name": "Python 3"
  },
  "pycharm": {
   "stem_cell": {
    "cell_type": "raw",
    "source": [],
    "metadata": {
     "collapsed": false
    }
   }
  }
 },
 "nbformat": 4,
 "nbformat_minor": 0
}